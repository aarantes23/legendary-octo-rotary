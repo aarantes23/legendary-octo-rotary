{
 "cells": [
  {
   "cell_type": "code",
   "execution_count": 1,
   "id": "fb218763-5d8f-43a1-9284-12d38c724784",
   "metadata": {},
   "outputs": [
    {
     "name": "stdout",
     "output_type": "stream",
     "text": [
      "\u001b[31mERROR: Invalid requirement: 'openpyxl,'\u001b[0m\u001b[31m\n",
      "\u001b[0mNote: you may need to restart the kernel to use updated packages.\n"
     ]
    }
   ],
   "source": [
    "pip install openpyxl, pandasql"
   ]
  },
  {
   "cell_type": "code",
   "execution_count": 2,
   "id": "f13dcfa1-537c-4971-a316-4a2e185b3bca",
   "metadata": {},
   "outputs": [],
   "source": [
    "import pandas as pd\n",
    "from pandasql import sqldf"
   ]
  },
  {
   "cell_type": "markdown",
   "id": "eb1f2993-0522-444e-b79a-a656cb15c3d4",
   "metadata": {},
   "source": [
    "# Primeiro, carreguei as tabelas do Exercicio 4 e 5 do xlsx que estava na pasta.  \n",
    "## Fiz isso para poder executar o sql dentro do jupyter notebook"
   ]
  },
  {
   "cell_type": "code",
   "execution_count": 3,
   "id": "daa22232-80a9-4794-91dd-63f8b30d15f6",
   "metadata": {},
   "outputs": [],
   "source": [
    "customer_raw = pd.read_excel(\"challenge_tables.xlsx\",sheet_name=\"customer\")\n",
    "account_raw = pd.read_excel(\"challenge_tables.xlsx\",sheet_name=\"account\")\n",
    "bankslip_raw = pd.read_excel(\"challenge_tables.xlsx\",sheet_name=\"bankslip\")\n",
    "pix_send_raw = pd.read_excel(\"challenge_tables.xlsx\",sheet_name=\"pix_send\")\n",
    "pix_received_raw = pd.read_excel(\"challenge_tables.xlsx\",sheet_name=\"pix_received\")\n",
    "p2p_tef_raw = pd.read_excel(\"challenge_tables.xlsx\",sheet_name=\"p2p_tef\")"
   ]
  },
  {
   "cell_type": "markdown",
   "id": "d5e0bee5-5570-42d1-a8ac-bd703fe32600",
   "metadata": {},
   "source": [
    "Depois de carregados, usei a primeira coluna de cada para serem as novas colunas de cada tabela"
   ]
  },
  {
   "cell_type": "code",
   "execution_count": 4,
   "id": "77f980e1-1a12-4a7c-9e69-c8c6682d095f",
   "metadata": {},
   "outputs": [],
   "source": [
    "customer = pd.DataFrame(columns=customer_raw[\"column name\"].values.tolist())\n",
    "account = pd.DataFrame(columns=account_raw[\"column name\"].values.tolist())\n",
    "bankslip = pd.DataFrame(columns=bankslip_raw[\"column name\"].values.tolist())\n",
    "pix_send = pd.DataFrame(columns=pix_send_raw[\"column name\"].values.tolist())\n",
    "pix_received = pd.DataFrame(columns=pix_received_raw[\"column name\"].values.tolist())\n",
    "p2p_tef = pd.DataFrame(columns=p2p_tef_raw[\"column name\"].values.tolist())"
   ]
  },
  {
   "cell_type": "code",
   "execution_count": 5,
   "id": "7ce24f02-45d1-4191-b158-8a152b2c16a8",
   "metadata": {},
   "outputs": [
    {
     "data": {
      "text/html": [
       "<div>\n",
       "<style scoped>\n",
       "    .dataframe tbody tr th:only-of-type {\n",
       "        vertical-align: middle;\n",
       "    }\n",
       "\n",
       "    .dataframe tbody tr th {\n",
       "        vertical-align: top;\n",
       "    }\n",
       "\n",
       "    .dataframe thead th {\n",
       "        text-align: right;\n",
       "    }\n",
       "</style>\n",
       "<table border=\"1\" class=\"dataframe\">\n",
       "  <thead>\n",
       "    <tr style=\"text-align: right;\">\n",
       "      <th></th>\n",
       "      <th>customer_id</th>\n",
       "      <th>name</th>\n",
       "      <th>document_number</th>\n",
       "      <th>created_at</th>\n",
       "      <th>updated_at</th>\n",
       "      <th>phone_number</th>\n",
       "      <th>address</th>\n",
       "      <th>timestamp</th>\n",
       "      <th>event_id</th>\n",
       "      <th>dt</th>\n",
       "    </tr>\n",
       "  </thead>\n",
       "  <tbody>\n",
       "  </tbody>\n",
       "</table>\n",
       "</div>"
      ],
      "text/plain": [
       "Empty DataFrame\n",
       "Columns: [customer_id, name, document_number, created_at, updated_at, phone_number, address, timestamp, event_id, dt]\n",
       "Index: []"
      ]
     },
     "execution_count": 5,
     "metadata": {},
     "output_type": "execute_result"
    }
   ],
   "source": [
    "customer"
   ]
  },
  {
   "cell_type": "code",
   "execution_count": 6,
   "id": "6af8ea9f-0d93-418a-96f6-02bc6729e78b",
   "metadata": {},
   "outputs": [
    {
     "data": {
      "text/html": [
       "<div>\n",
       "<style scoped>\n",
       "    .dataframe tbody tr th:only-of-type {\n",
       "        vertical-align: middle;\n",
       "    }\n",
       "\n",
       "    .dataframe tbody tr th {\n",
       "        vertical-align: top;\n",
       "    }\n",
       "\n",
       "    .dataframe thead th {\n",
       "        text-align: right;\n",
       "    }\n",
       "</style>\n",
       "<table border=\"1\" class=\"dataframe\">\n",
       "  <thead>\n",
       "    <tr style=\"text-align: right;\">\n",
       "      <th></th>\n",
       "      <th>account_id</th>\n",
       "      <th>customer_id</th>\n",
       "      <th>created_at</th>\n",
       "      <th>updated_at</th>\n",
       "      <th>status</th>\n",
       "      <th>timestamp</th>\n",
       "      <th>event_id</th>\n",
       "      <th>dt</th>\n",
       "    </tr>\n",
       "  </thead>\n",
       "  <tbody>\n",
       "  </tbody>\n",
       "</table>\n",
       "</div>"
      ],
      "text/plain": [
       "Empty DataFrame\n",
       "Columns: [account_id, customer_id, created_at, updated_at, status, timestamp, event_id, dt]\n",
       "Index: []"
      ]
     },
     "execution_count": 6,
     "metadata": {},
     "output_type": "execute_result"
    }
   ],
   "source": [
    "account"
   ]
  },
  {
   "cell_type": "code",
   "execution_count": 7,
   "id": "8d6fd766-ce42-4bde-9670-a0bc03986e3c",
   "metadata": {},
   "outputs": [
    {
     "data": {
      "text/html": [
       "<div>\n",
       "<style scoped>\n",
       "    .dataframe tbody tr th:only-of-type {\n",
       "        vertical-align: middle;\n",
       "    }\n",
       "\n",
       "    .dataframe tbody tr th {\n",
       "        vertical-align: top;\n",
       "    }\n",
       "\n",
       "    .dataframe thead th {\n",
       "        text-align: right;\n",
       "    }\n",
       "</style>\n",
       "<table border=\"1\" class=\"dataframe\">\n",
       "  <thead>\n",
       "    <tr style=\"text-align: right;\">\n",
       "      <th></th>\n",
       "      <th>amount</th>\n",
       "      <th>account_id</th>\n",
       "      <th>beneficiary_name</th>\n",
       "      <th>barcode</th>\n",
       "      <th>due_date</th>\n",
       "      <th>timestamp</th>\n",
       "      <th>event_id</th>\n",
       "      <th>dt</th>\n",
       "    </tr>\n",
       "  </thead>\n",
       "  <tbody>\n",
       "  </tbody>\n",
       "</table>\n",
       "</div>"
      ],
      "text/plain": [
       "Empty DataFrame\n",
       "Columns: [amount, account_id, beneficiary_name, barcode, due_date, timestamp, event_id, dt]\n",
       "Index: []"
      ]
     },
     "execution_count": 7,
     "metadata": {},
     "output_type": "execute_result"
    }
   ],
   "source": [
    "bankslip"
   ]
  },
  {
   "cell_type": "code",
   "execution_count": 8,
   "id": "e4bf7ac1-5bc2-4309-80a1-4e0c33b4fed7",
   "metadata": {
    "tags": []
   },
   "outputs": [
    {
     "data": {
      "text/html": [
       "<div>\n",
       "<style scoped>\n",
       "    .dataframe tbody tr th:only-of-type {\n",
       "        vertical-align: middle;\n",
       "    }\n",
       "\n",
       "    .dataframe tbody tr th {\n",
       "        vertical-align: top;\n",
       "    }\n",
       "\n",
       "    .dataframe thead th {\n",
       "        text-align: right;\n",
       "    }\n",
       "</style>\n",
       "<table border=\"1\" class=\"dataframe\">\n",
       "  <thead>\n",
       "    <tr style=\"text-align: right;\">\n",
       "      <th></th>\n",
       "      <th>amount</th>\n",
       "      <th>account_id</th>\n",
       "      <th>type_document_number_source_holder</th>\n",
       "      <th>document_number_source_holder</th>\n",
       "      <th>type_document_number_destination_holder</th>\n",
       "      <th>document_number_dentination_holder</th>\n",
       "      <th>user_message</th>\n",
       "      <th>destination_key</th>\n",
       "      <th>timestamp</th>\n",
       "      <th>event_id</th>\n",
       "      <th>dt</th>\n",
       "    </tr>\n",
       "  </thead>\n",
       "  <tbody>\n",
       "  </tbody>\n",
       "</table>\n",
       "</div>"
      ],
      "text/plain": [
       "Empty DataFrame\n",
       "Columns: [amount, account_id, type_document_number_source_holder, document_number_source_holder, type_document_number_destination_holder, document_number_dentination_holder, user_message, destination_key, timestamp, event_id, dt]\n",
       "Index: []"
      ]
     },
     "execution_count": 8,
     "metadata": {},
     "output_type": "execute_result"
    }
   ],
   "source": [
    "pix_send"
   ]
  },
  {
   "cell_type": "code",
   "execution_count": 9,
   "id": "e27e9c3c-54e7-44ac-9c41-e388e3552392",
   "metadata": {},
   "outputs": [
    {
     "data": {
      "text/html": [
       "<div>\n",
       "<style scoped>\n",
       "    .dataframe tbody tr th:only-of-type {\n",
       "        vertical-align: middle;\n",
       "    }\n",
       "\n",
       "    .dataframe tbody tr th {\n",
       "        vertical-align: top;\n",
       "    }\n",
       "\n",
       "    .dataframe thead th {\n",
       "        text-align: right;\n",
       "    }\n",
       "</style>\n",
       "<table border=\"1\" class=\"dataframe\">\n",
       "  <thead>\n",
       "    <tr style=\"text-align: right;\">\n",
       "      <th></th>\n",
       "      <th>amount</th>\n",
       "      <th>account_id</th>\n",
       "      <th>type_document_number_source_holder</th>\n",
       "      <th>document_number_source_holder</th>\n",
       "      <th>type_document_number_destination_holder</th>\n",
       "      <th>document_number_dentination_holder</th>\n",
       "      <th>user_message</th>\n",
       "      <th>timestamp</th>\n",
       "      <th>event_id</th>\n",
       "      <th>dt</th>\n",
       "    </tr>\n",
       "  </thead>\n",
       "  <tbody>\n",
       "  </tbody>\n",
       "</table>\n",
       "</div>"
      ],
      "text/plain": [
       "Empty DataFrame\n",
       "Columns: [amount, account_id, type_document_number_source_holder, document_number_source_holder, type_document_number_destination_holder, document_number_dentination_holder, user_message, timestamp, event_id, dt]\n",
       "Index: []"
      ]
     },
     "execution_count": 9,
     "metadata": {},
     "output_type": "execute_result"
    }
   ],
   "source": [
    "pix_received"
   ]
  },
  {
   "cell_type": "code",
   "execution_count": 10,
   "id": "6751fb9d-1fa4-4299-ad8e-f20f1c314837",
   "metadata": {},
   "outputs": [
    {
     "data": {
      "text/html": [
       "<div>\n",
       "<style scoped>\n",
       "    .dataframe tbody tr th:only-of-type {\n",
       "        vertical-align: middle;\n",
       "    }\n",
       "\n",
       "    .dataframe tbody tr th {\n",
       "        vertical-align: top;\n",
       "    }\n",
       "\n",
       "    .dataframe thead th {\n",
       "        text-align: right;\n",
       "    }\n",
       "</style>\n",
       "<table border=\"1\" class=\"dataframe\">\n",
       "  <thead>\n",
       "    <tr style=\"text-align: right;\">\n",
       "      <th></th>\n",
       "      <th>amount</th>\n",
       "      <th>account_id_source</th>\n",
       "      <th>account_id_destination</th>\n",
       "      <th>timestamp</th>\n",
       "      <th>event_id</th>\n",
       "      <th>dt</th>\n",
       "    </tr>\n",
       "  </thead>\n",
       "  <tbody>\n",
       "  </tbody>\n",
       "</table>\n",
       "</div>"
      ],
      "text/plain": [
       "Empty DataFrame\n",
       "Columns: [amount, account_id_source, account_id_destination, timestamp, event_id, dt]\n",
       "Index: []"
      ]
     },
     "execution_count": 10,
     "metadata": {},
     "output_type": "execute_result"
    }
   ],
   "source": [
    "p2p_tef"
   ]
  },
  {
   "cell_type": "markdown",
   "id": "be5011de-af7e-4af2-9c88-25e805e37ef1",
   "metadata": {},
   "source": [
    "# Exercicio 4\n",
    "Como havia não tinha dados para ir desenvolvendo e testando, acreditei que o que estava fazendo não ia dar certo,  \n",
    "Portanto, o resultado mais proximo que cheguei foi assim:  \n",
    "Em vez de uma so coluna de transaction_type e mean_value, adicionei uma coluna para cada transaction_type e uma com o AVG(amount) desse tipo.  \n",
    "A tabela final ficaria com multiplas colunas de transaction_type e mean_value em vez de uma linha para cada, fornecendo assim, potencialmente o mesmo resultado final"
   ]
  },
  {
   "cell_type": "code",
   "execution_count": 11,
   "id": "31659098-84a2-4ed5-9ccf-5d8d688bdf11",
   "metadata": {},
   "outputs": [
    {
     "data": {
      "text/html": [
       "<div>\n",
       "<style scoped>\n",
       "    .dataframe tbody tr th:only-of-type {\n",
       "        vertical-align: middle;\n",
       "    }\n",
       "\n",
       "    .dataframe tbody tr th {\n",
       "        vertical-align: top;\n",
       "    }\n",
       "\n",
       "    .dataframe thead th {\n",
       "        text-align: right;\n",
       "    }\n",
       "</style>\n",
       "<table border=\"1\" class=\"dataframe\">\n",
       "  <thead>\n",
       "    <tr style=\"text-align: right;\">\n",
       "      <th></th>\n",
       "      <th>customer_id</th>\n",
       "      <th>account_id</th>\n",
       "      <th>name</th>\n",
       "      <th>date</th>\n",
       "      <th>transaction_type_b</th>\n",
       "      <th>mean_value_b</th>\n",
       "      <th>transaction_type_p</th>\n",
       "      <th>mean_value_p</th>\n",
       "      <th>transaction_type_p2p_tef</th>\n",
       "      <th>mean_value_p2p_tef</th>\n",
       "    </tr>\n",
       "  </thead>\n",
       "  <tbody>\n",
       "  </tbody>\n",
       "</table>\n",
       "</div>"
      ],
      "text/plain": [
       "Empty DataFrame\n",
       "Columns: [customer_id, account_id, name, date, transaction_type_b, mean_value_b, transaction_type_p, mean_value_p, transaction_type_p2p_tef, mean_value_p2p_tef]\n",
       "Index: []"
      ]
     },
     "execution_count": 11,
     "metadata": {},
     "output_type": "execute_result"
    }
   ],
   "source": [
    "query = \"\"\"\n",
    "SELECT c.customer_id, a.account_id, c.name, c.dt as date, \n",
    "'bankslip' AS transaction_type_b, AVG(b.amount) AS mean_value_b,\n",
    "'pix_send' AS transaction_type_p, AVG(p.amount) AS mean_value_p,\n",
    "'p2p_tef' AS transaction_type_p2p_tef, AVG(t.amount) AS mean_value_p2p_tef\n",
    "FROM customer c \n",
    "INNER JOIN account a ON c.customer_id = a.account_id AND c.dt = a.dt\n",
    "INNER JOIN bankslip b ON b.account_id = a.account_id AND b.dt = a.dt \n",
    "INNER JOIN pix_send p ON b.account_id = a.account_id AND p.dt = a.dt\n",
    "INNER JOIN p2p_tef t ON t.account_id_source = a.account_id AND t.dt = a.dt \n",
    "GROUP BY c.name\n",
    "\"\"\"\n",
    "sqldf(query, globals())"
   ]
  },
  {
   "cell_type": "markdown",
   "id": "3d6e96a5-9dc8-4233-a74a-6950792e44ee",
   "metadata": {},
   "source": [
    "# Exercicio 5\n",
    "No exercicio 5 pensei no desenvolvimento o como é feito atualmente na empresa que estou,  \n",
    "Criando obt (one big table) com todos os campos que podem ser necessarios, particionando eles por data,  \n",
    "Assim o usuário deve pesquisar nessa tabela somente pela chave na particao de data que ele busca.  \n",
    "Não tenho os número de benchmark que mostram que essa solução é superior ou inferior as outras, decidi usar ela como solução pois é a que atualmente ja uso "
   ]
  },
  {
   "cell_type": "code",
   "execution_count": 12,
   "id": "89f1b1bd-acc6-4ef8-a579-8d4b6dbf3109",
   "metadata": {
    "tags": []
   },
   "outputs": [],
   "source": [
    "# Inicialmente, coleta-se todos os campos, adicionando um sulfixo em cada um para saber de onde ele veio na obt\n",
    "result = [] \n",
    "for c in customer.columns:    \n",
    "    result.append(\"c.\"+c+\", \")    \n",
    "for c in account.columns:\n",
    "    result.append(\"a.\"+c+\" AS \"+c+\"_account, \")\n",
    "for c in bankslip.columns:\n",
    "    result.append(\"b.\"+c+\" AS \"+c+\"_bankslip, \")\n",
    "for c in pix_send.columns:\n",
    "    result.append(\"p.\"+c+\" AS \"+c+\"_pix_send, \")       \n",
    "for c in pix_received.columns:\n",
    "    result.append(\"pr.\"+c+\" AS \"+c+\"_pix_received, \")   \n",
    "for c in p2p_tef.columns:\n",
    "    result.append(\"t.\"+c+\" AS \"+c+\"_p2p_tef, \")\n",
    "i = \" \"\n",
    "for item in result:\n",
    "    i = i + item\n",
    "i = i[:-2]"
   ]
  },
  {
   "cell_type": "code",
   "execution_count": 13,
   "id": "628de69a-6ddb-43fe-83ae-8ba1fd5055cf",
   "metadata": {
    "tags": []
   },
   "outputs": [],
   "source": [
    "# depois executa a query unindo todos os dados\n",
    "query = \"\"\"\n",
    "SELECT \"\"\"+i+\"\"\"\n",
    "FROM customer c \n",
    "INNER JOIN account a ON c.customer_id = a.account_id AND c.dt = a.dt\n",
    "INNER JOIN bankslip b ON b.account_id = a.account_id AND b.dt = a.dt \n",
    "INNER JOIN pix_send p ON b.account_id = a.account_id AND p.dt = a.dt\n",
    "INNER JOIN pix_received pr ON b.account_id = a.account_id AND p.dt = a.dt\n",
    "INNER JOIN p2p_tef t ON t.account_id_source = a.account_id AND t.dt = a.dt \n",
    "\"\"\"\n",
    "obt = sqldf(query, globals())"
   ]
  },
  {
   "cell_type": "code",
   "execution_count": 14,
   "id": "4d2b958b-c295-41fe-9d31-a2b85ab53f75",
   "metadata": {},
   "outputs": [
    {
     "name": "stdout",
     "output_type": "stream",
     "text": [
      "<class 'pandas.core.frame.DataFrame'>\n",
      "Index: 0 entries\n",
      "Data columns (total 53 columns):\n",
      " #   Column                                                Non-Null Count  Dtype \n",
      "---  ------                                                --------------  ----- \n",
      " 0   customer_id                                           0 non-null      object\n",
      " 1   name                                                  0 non-null      object\n",
      " 2   document_number                                       0 non-null      object\n",
      " 3   created_at                                            0 non-null      object\n",
      " 4   updated_at                                            0 non-null      object\n",
      " 5   phone_number                                          0 non-null      object\n",
      " 6   address                                               0 non-null      object\n",
      " 7   timestamp                                             0 non-null      object\n",
      " 8   event_id                                              0 non-null      object\n",
      " 9   dt                                                    0 non-null      object\n",
      " 10  account_id_account                                    0 non-null      object\n",
      " 11  customer_id_account                                   0 non-null      object\n",
      " 12  created_at_account                                    0 non-null      object\n",
      " 13  updated_at_account                                    0 non-null      object\n",
      " 14  status_account                                        0 non-null      object\n",
      " 15  timestamp_account                                     0 non-null      object\n",
      " 16  event_id_account                                      0 non-null      object\n",
      " 17  dt_account                                            0 non-null      object\n",
      " 18  amount_bankslip                                       0 non-null      object\n",
      " 19  account_id_bankslip                                   0 non-null      object\n",
      " 20  beneficiary_name_bankslip                             0 non-null      object\n",
      " 21  barcode_bankslip                                      0 non-null      object\n",
      " 22  due_date_bankslip                                     0 non-null      object\n",
      " 23  timestamp_bankslip                                    0 non-null      object\n",
      " 24  event_id_bankslip                                     0 non-null      object\n",
      " 25  dt_bankslip                                           0 non-null      object\n",
      " 26  amount_pix_send                                       0 non-null      object\n",
      " 27  account_id_pix_send                                   0 non-null      object\n",
      " 28  type_document_number_source_holder_pix_send           0 non-null      object\n",
      " 29  document_number_source_holder_pix_send                0 non-null      object\n",
      " 30  type_document_number_destination_holder_pix_send      0 non-null      object\n",
      " 31  document_number_dentination_holder_pix_send           0 non-null      object\n",
      " 32  user_message_pix_send                                 0 non-null      object\n",
      " 33  destination_key_pix_send                              0 non-null      object\n",
      " 34  timestamp_pix_send                                    0 non-null      object\n",
      " 35  event_id_pix_send                                     0 non-null      object\n",
      " 36  dt_pix_send                                           0 non-null      object\n",
      " 37  amount_pix_received                                   0 non-null      object\n",
      " 38  account_id_pix_received                               0 non-null      object\n",
      " 39  type_document_number_source_holder_pix_received       0 non-null      object\n",
      " 40  document_number_source_holder_pix_received            0 non-null      object\n",
      " 41  type_document_number_destination_holder_pix_received  0 non-null      object\n",
      " 42  document_number_dentination_holder_pix_received       0 non-null      object\n",
      " 43  user_message_pix_received                             0 non-null      object\n",
      " 44  timestamp_pix_received                                0 non-null      object\n",
      " 45  event_id_pix_received                                 0 non-null      object\n",
      " 46  dt_pix_received                                       0 non-null      object\n",
      " 47  amount_p2p_tef                                        0 non-null      object\n",
      " 48  account_id_source_p2p_tef                             0 non-null      object\n",
      " 49  account_id_destination_p2p_tef                        0 non-null      object\n",
      " 50  timestamp_p2p_tef                                     0 non-null      object\n",
      " 51  event_id_p2p_tef                                      0 non-null      object\n",
      " 52  dt_p2p_tef                                            0 non-null      object\n",
      "dtypes: object(53)\n",
      "memory usage: 0.0+ bytes\n"
     ]
    }
   ],
   "source": [
    "obt.info()"
   ]
  },
  {
   "cell_type": "code",
   "execution_count": null,
   "id": "dcc0cdc8-abbd-4b65-ba16-6ffd51704586",
   "metadata": {},
   "outputs": [],
   "source": []
  },
  {
   "cell_type": "code",
   "execution_count": null,
   "id": "c0972e7b-ea24-4c2e-b9fb-94fd939c8c18",
   "metadata": {},
   "outputs": [],
   "source": []
  }
 ],
 "metadata": {
  "kernelspec": {
   "display_name": "Python 3 (ipykernel)",
   "language": "python",
   "name": "python3"
  },
  "language_info": {
   "codemirror_mode": {
    "name": "ipython",
    "version": 3
   },
   "file_extension": ".py",
   "mimetype": "text/x-python",
   "name": "python",
   "nbconvert_exporter": "python",
   "pygments_lexer": "ipython3",
   "version": "3.10.4"
  }
 },
 "nbformat": 4,
 "nbformat_minor": 5
}
